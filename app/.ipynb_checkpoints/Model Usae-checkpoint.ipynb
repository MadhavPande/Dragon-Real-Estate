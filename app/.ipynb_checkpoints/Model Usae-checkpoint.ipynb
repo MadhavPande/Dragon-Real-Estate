{
 "cells": [
  {
   "cell_type": "code",
   "execution_count": 2,
   "id": "a9458444",
   "metadata": {},
   "outputs": [],
   "source": [
    "from joblib import dump, load\n",
    "import numpy as np\n",
    "model = load('Dragon.joblib')"
   ]
  },
  {
   "cell_type": "code",
   "execution_count": null,
   "id": "52748cb0",
   "metadata": {},
   "outputs": [],
   "source": [
    "input = np.array([])\n",
    "model.predict(input)"
   ]
  }
 ],
 "metadata": {
  "kernelspec": {
   "display_name": "Python 3 (ipykernel)",
   "language": "python",
   "name": "python3"
  },
  "language_info": {
   "codemirror_mode": {
    "name": "ipython",
    "version": 3
   },
   "file_extension": ".py",
   "mimetype": "text/x-python",
   "name": "python",
   "nbconvert_exporter": "python",
   "pygments_lexer": "ipython3",
   "version": "3.9.2"
  }
 },
 "nbformat": 4,
 "nbformat_minor": 5
}
